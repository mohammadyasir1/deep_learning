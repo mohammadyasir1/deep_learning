{
  "nbformat": 4,
  "nbformat_minor": 0,
  "metadata": {
    "colab": {
      "provenance": []
    },
    "kernelspec": {
      "name": "python3",
      "display_name": "Python 3"
    },
    "language_info": {
      "name": "python"
    }
  },
  "cells": [
    {
      "cell_type": "code",
      "execution_count": 1,
      "metadata": {
        "id": "3_kil4koC0pZ"
      },
      "outputs": [],
      "source": [
        "# TC -> 2^n\n",
        "# takes too long for large input\n",
        "import time\n",
        "\n",
        "def fib(n):\n",
        "  if n==1 or n==0:\n",
        "    return 1\n",
        "  else:\n",
        "    return fib(n-1) + fib(n-2)"
      ]
    },
    {
      "cell_type": "code",
      "source": [
        "start = time.time()\n",
        "print(fib(39))\n",
        "print(time.time() - start)"
      ],
      "metadata": {
        "colab": {
          "base_uri": "https://localhost:8080/"
        },
        "id": "qoqQvf-lDDzu",
        "outputId": "2263ca9d-8827-4417-b133-bf82bcdb4151"
      },
      "execution_count": 4,
      "outputs": [
        {
          "output_type": "stream",
          "name": "stdout",
          "text": [
            "102334155\n",
            "32.12185096740723\n"
          ]
        }
      ]
    },
    {
      "cell_type": "markdown",
      "source": [
        "**Optimized code**"
      ],
      "metadata": {
        "id": "5Uk0nvJVEVRa"
      }
    },
    {
      "cell_type": "code",
      "source": [
        "import time\n",
        "\n",
        "def fib(n, d):\n",
        "  if n in d:\n",
        "    return d[n]\n",
        "  else:\n",
        "    d[n]  = fib(n-1, d) + fib(n-2, d)\n",
        "    return d[n]"
      ],
      "metadata": {
        "id": "weQQ31K7EbzH"
      },
      "execution_count": 7,
      "outputs": []
    },
    {
      "cell_type": "code",
      "source": [
        "start = time.time()\n",
        "d = {0:1, 1:1}\n",
        "print(fib(99,d))\n",
        "print(time.time() - start)\n"
      ],
      "metadata": {
        "colab": {
          "base_uri": "https://localhost:8080/"
        },
        "id": "vSY_fUfWEqsl",
        "outputId": "7e1accfd-dd4e-47bf-a4bc-3d7d0f8fa8f6"
      },
      "execution_count": 10,
      "outputs": [
        {
          "output_type": "stream",
          "name": "stdout",
          "text": [
            "354224848179261915075\n",
            "0.004866600036621094\n"
          ]
        }
      ]
    },
    {
      "cell_type": "code",
      "source": [],
      "metadata": {
        "id": "yunz0xKkE4iu"
      },
      "execution_count": null,
      "outputs": []
    }
  ]
}